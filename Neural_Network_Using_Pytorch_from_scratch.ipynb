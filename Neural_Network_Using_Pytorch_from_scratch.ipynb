{
  "nbformat": 4,
  "nbformat_minor": 0,
  "metadata": {
    "colab": {
      "name": "Neural Network Using Pytorch from scratch.ipynb",
      "provenance": [],
      "authorship_tag": "ABX9TyN2mKX4Lp6DH1RFqR4XHGeu",
      "include_colab_link": true
    },
    "kernelspec": {
      "name": "python3",
      "display_name": "Python 3"
    }
  },
  "cells": [
    {
      "cell_type": "markdown",
      "metadata": {
        "id": "view-in-github",
        "colab_type": "text"
      },
      "source": [
        "<a href=\"https://colab.research.google.com/github/pulkitmehtawork/Pytorch/blob/master/Neural_Network_Using_Pytorch_from_scratch.ipynb\" target=\"_parent\"><img src=\"https://colab.research.google.com/assets/colab-badge.svg\" alt=\"Open In Colab\"/></a>"
      ]
    },
    {
      "cell_type": "markdown",
      "metadata": {
        "id": "WaFTpkk9j0cE",
        "colab_type": "text"
      },
      "source": [
        "In this notebook , we will develop a neural network from scratch using Pytorch .\n",
        "Reference : AV free course - Intro to Pytorch"
      ]
    },
    {
      "cell_type": "code",
      "metadata": {
        "id": "Dkhh_oUgj6Za",
        "colab_type": "code",
        "colab": {}
      },
      "source": [
        "import torch \n",
        "import numpy as np "
      ],
      "execution_count": 5,
      "outputs": []
    },
    {
      "cell_type": "code",
      "metadata": {
        "id": "owLx63eLj-45",
        "colab_type": "code",
        "colab": {}
      },
      "source": [
        "# Input Tensor \n",
        "\n",
        "X = torch.Tensor([[1,0,1,0],[1,0,1,1],[0,1,0,1]])\n",
        "# output tensor\n",
        "y = torch.Tensor([[1],[1],[0]])"
      ],
      "execution_count": 6,
      "outputs": []
    },
    {
      "cell_type": "code",
      "metadata": {
        "id": "dzxkYQaekOw7",
        "colab_type": "code",
        "colab": {
          "base_uri": "https://localhost:8080/",
          "height": 136
        },
        "outputId": "6627334a-f717-49c0-e56c-cdecb94d378f"
      },
      "source": [
        "print(X,'\\n')\n",
        "print(y)"
      ],
      "execution_count": 7,
      "outputs": [
        {
          "output_type": "stream",
          "text": [
            "tensor([[1., 0., 1., 0.],\n",
            "        [1., 0., 1., 1.],\n",
            "        [0., 1., 0., 1.]]) \n",
            "\n",
            "tensor([[1.],\n",
            "        [1.],\n",
            "        [0.]])\n"
          ],
          "name": "stdout"
        }
      ]
    },
    {
      "cell_type": "code",
      "metadata": {
        "id": "VMUYrrRikWPb",
        "colab_type": "code",
        "colab": {}
      },
      "source": [
        "#sigmoid function \n",
        "def sigmoid(x):\n",
        "  return 1/(1+torch.exp(-x))"
      ],
      "execution_count": 8,
      "outputs": []
    },
    {
      "cell_type": "code",
      "metadata": {
        "id": "L_Zotr01klde",
        "colab_type": "code",
        "colab": {}
      },
      "source": [
        "# derivative of sigmoid \n",
        "def derivatives_sigmoid(x):\n",
        "  return sigmoid(x)* ( 1- sigmoid(x))"
      ],
      "execution_count": 9,
      "outputs": []
    },
    {
      "cell_type": "code",
      "metadata": {
        "id": "98W0-D7LkwFW",
        "colab_type": "code",
        "colab": {}
      },
      "source": [
        "# initilaize parameters\n",
        "\n",
        "epoch =10000\n",
        "lr = 0.1 # learning rate\n",
        "inputlayer_neurons = X.shape[1]  #number of features in input\n",
        "hiddenlayer_neurons  =3\n",
        "output_neurons = 1\n"
      ],
      "execution_count": 17,
      "outputs": []
    },
    {
      "cell_type": "code",
      "metadata": {
        "id": "ZuKGBfRclEwa",
        "colab_type": "code",
        "colab": {}
      },
      "source": [
        "  #weight and bias initialization\n",
        "wh=torch.randn(inputlayer_neurons, hiddenlayer_neurons).type(torch.FloatTensor)\n",
        "bh=torch.randn(1, hiddenlayer_neurons).type(torch.FloatTensor)\n",
        "wout=torch.randn(hiddenlayer_neurons, output_neurons)\n",
        "bout=torch.randn(1, output_neurons)"
      ],
      "execution_count": 11,
      "outputs": []
    },
    {
      "cell_type": "code",
      "metadata": {
        "id": "CnOYZfwClPq-",
        "colab_type": "code",
        "colab": {
          "base_uri": "https://localhost:8080/",
          "height": 85
        },
        "outputId": "ceea7de6-89de-4dd9-b6b8-dcb93ee00196"
      },
      "source": [
        "wh"
      ],
      "execution_count": 12,
      "outputs": [
        {
          "output_type": "execute_result",
          "data": {
            "text/plain": [
              "tensor([[-0.9757, -0.0916, -1.2599],\n",
              "        [-0.6971,  1.6515, -0.9225],\n",
              "        [ 1.1155,  0.5425, -0.0460],\n",
              "        [-0.3337,  0.6472,  0.9639]])"
            ]
          },
          "metadata": {
            "tags": []
          },
          "execution_count": 12
        }
      ]
    },
    {
      "cell_type": "code",
      "metadata": {
        "id": "vLcQZk0XlQ0H",
        "colab_type": "code",
        "colab": {}
      },
      "source": [
        "for i in range(epoch):\n",
        "   #Forward Propogation\n",
        "   hidden_layer_input1 = torch.mm(X, wh)\n",
        "   hidden_layer_input = hidden_layer_input1 + bh\n",
        "   hidden_layer_activations = sigmoid(hidden_layer_input)\n",
        "   \n",
        "   output_layer_input1 = torch.mm(hidden_layer_activations, wout)\n",
        "   output_layer_input = output_layer_input1 + bout\n",
        "   output = sigmoid(output_layer_input)\n",
        "   #Backpropagation\n",
        "   \n",
        "   E = y-output\n",
        "   slope_output_layer = derivatives_sigmoid(output)\n",
        "   slope_hidden_layer = derivatives_sigmoid(hidden_layer_activations)\n",
        "   d_output = E * slope_output_layer\n",
        "   Error_at_hidden_layer = torch.mm(d_output, wout.t())\n",
        "   d_hiddenlayer = Error_at_hidden_layer * slope_hidden_layer\n",
        "\n",
        "   wout += torch.mm(hidden_layer_activations.t(), d_output) *lr\n",
        "   bout += d_output.sum() *lr\n",
        "   wh += torch.mm(X.t(), d_hiddenlayer) *lr\n",
        "   bh += d_output.sum() *lr\n",
        "\n"
      ],
      "execution_count": 18,
      "outputs": []
    },
    {
      "cell_type": "code",
      "metadata": {
        "id": "Fla6VfOSmFbA",
        "colab_type": "code",
        "colab": {
          "base_uri": "https://localhost:8080/",
          "height": 170
        },
        "outputId": "9e14ad32-20b2-460b-bd38-15d953cb47d2"
      },
      "source": [
        "print('actual :\\n', y, '\\n')\n",
        "print('predicted :\\n', output)"
      ],
      "execution_count": 19,
      "outputs": [
        {
          "output_type": "stream",
          "text": [
            "actual :\n",
            " tensor([[1.],\n",
            "        [1.],\n",
            "        [0.]]) \n",
            "\n",
            "predicted :\n",
            " tensor([[9.9988e-01],\n",
            "        [9.9985e-01],\n",
            "        [2.8330e-04]])\n"
          ],
          "name": "stdout"
        }
      ]
    },
    {
      "cell_type": "code",
      "metadata": {
        "id": "eXQFCNnEmLHy",
        "colab_type": "code",
        "colab": {}
      },
      "source": [
        ""
      ],
      "execution_count": null,
      "outputs": []
    }
  ]
}